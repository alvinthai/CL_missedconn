{
 "cells": [
  {
   "cell_type": "code",
   "execution_count": 55,
   "metadata": {
    "collapsed": true
   },
   "outputs": [],
   "source": [
    "import pickle\n",
    "import numpy as np\n",
    "import pandas as pd\n",
    "from manage_db import db_to_df\n",
    "from sklearn.feature_extraction.text import TfidfVectorizer\n",
    "from sklearn.decomposition import NMF\n",
    "import matplotlib.pyplot as plt\n",
    "import seaborn as sns\n",
    "from unidecode import unidecode\n",
    "from langdetect import detect\n",
    "%matplotlib inline"
   ]
  },
  {
   "cell_type": "code",
   "execution_count": 56,
   "metadata": {
    "collapsed": true
   },
   "outputs": [],
   "source": [
    "# Load data\n",
    "with open('bestofmc.pickle', 'rb') as f:\n",
    "    bestdf = pickle.load(f)\n",
    "\n",
    "df_all = db_to_df()\n",
    "\n",
    "df_all['post'] = df_all['post'].apply(lambda x: unidecode(x))\n",
    "bestdf['post'] = bestdf['post'].apply(lambda x: unidecode(x))"
   ]
  },
  {
   "cell_type": "code",
   "execution_count": 60,
   "metadata": {
    "collapsed": false
   },
   "outputs": [
    {
     "data": {
      "text/plain": [
       "15009"
      ]
     },
     "execution_count": 60,
     "metadata": {},
     "output_type": "execute_result"
    }
   ],
   "source": [
    "def combine_text(df):\n",
    "    texts = []\n",
    "    for i in xrange(len(df)):\n",
    "        text = df.loc[i, 'title'] + ' ' + df.loc[i, 'post']\n",
    "        texts.append(text)\n",
    "    return texts\n",
    "\n",
    "texts = np.concatenate((combine_text(df_all), combine_text(bestdf)))\n",
    "len(texts)"
   ]
  },
  {
   "cell_type": "code",
   "execution_count": 67,
   "metadata": {
    "collapsed": false
   },
   "outputs": [
    {
     "name": "stdout",
     "output_type": "stream",
     "text": [
      "Number of non-english posts: 77 (0.005%)\n",
      "14932\n"
     ]
    }
   ],
   "source": [
    "# keep only english posts\n",
    "engtexts = np.array([t for t in texts if detect(t) == 'en'])\n",
    "print 'Number of non-english posts: {} ({:.3f}%)'.format((len(texts)-len(engtexts)), 1.*(len(texts)-len(engtexts))/len(texts))\n",
    "print len(engtexts)"
   ]
  },
  {
   "cell_type": "code",
   "execution_count": 68,
   "metadata": {
    "collapsed": false
   },
   "outputs": [
    {
     "data": {
      "text/plain": [
       "(14932, 5000)"
      ]
     },
     "execution_count": 68,
     "metadata": {},
     "output_type": "execute_result"
    }
   ],
   "source": [
    "vectorizer = TfidfVectorizer(max_features=5000, ngram_range=(3, 5))\n",
    "# vectorizer = TfidfVectorizer(stop_words='english', max_features=5000, ngram_range=(2, 4))\n",
    "X = vectorizer.fit_transform(engtexts)\n",
    "feature_words = vectorizer.get_feature_names()\n",
    "X.shape"
   ]
  },
  {
   "cell_type": "code",
   "execution_count": 63,
   "metadata": {
    "collapsed": false
   },
   "outputs": [
    {
     "data": {
      "text/plain": [
       "[2000, 4000, 6000, 8000, 10000, 12000, 14000, 14928]"
      ]
     },
     "execution_count": 63,
     "metadata": {},
     "output_type": "execute_result"
    }
   ],
   "source": [
    "rand_inds = np.random.choice(len(engtexts), len(engtexts), replace=False)\n",
    "increment = 2000\n",
    "corpus_sizes = range(increment, len(engtexts), increment)\n",
    "corpus_sizes.append(len(engtexts))\n",
    "corpus_sizes"
   ]
  },
  {
   "cell_type": "code",
   "execution_count": null,
   "metadata": {
    "collapsed": false
   },
   "outputs": [],
   "source": [
    "# Explore corpus size\n",
    "mses = []\n",
    "for size in corpus_sizes:\n",
    "    X_ = X[rand_inds[:size]]\n",
    "    mdl = NMF(n_components=8)\n",
    "    W = mdl.fit_transform(X_)\n",
    "    H = mdl.components_\n",
    "    mse = np.mean(np.square(X_ - W.dot(H)))\n",
    "    mses.append(mse)\n",
    "plt.plot(corpus_sizes, mses, label = 'Calculated MSE')\n",
    "plt.xlabel('Corpus size')"
   ]
  },
  {
   "cell_type": "code",
   "execution_count": 65,
   "metadata": {
    "collapsed": false
   },
   "outputs": [
    {
     "data": {
      "text/plain": [
       "<matplotlib.text.Text at 0x100736110>"
      ]
     },
     "execution_count": 65,
     "metadata": {},
     "output_type": "execute_result"
    },
    {
     "data": {
      "image/png": "[encoded data removed]",
      "text/plain": [
       "<matplotlib.figure.Figure at 0x16fd23150>"
      ]
     },
     "metadata": {},
     "output_type": "display_data"
    }
   ],
   "source": [
    "# Explore number of topics\n",
    "mean_reconstruct_errors = []\n",
    "mses = []\n",
    "components = np.arange(5, 50)\n",
    "for n in components:\n",
    "    X_ = engX[rand_inds[:3000]]\n",
    "    mdl = NMF(n_components=n, l1_ratio=1)\n",
    "    W = mdl.fit_transform(X_)\n",
    "    H = mdl.components_\n",
    "    mse = np.mean(np.square(X_ - W.dot(H)))\n",
    "    mses.append(mse)\n",
    "    mean_reconstruct_errors.append(mdl.reconstruction_err_)\n",
    "plt.plot(components, mean_reconstruct_errors, label='NMF reconstruction err')\n",
    "# plt.plot(components, mses, label = 'Calculated MSE')\n",
    "plt.xlabel('Number of components')"
   ]
  },
  {
   "cell_type": "code",
   "execution_count": 70,
   "metadata": {
    "collapsed": false
   },
   "outputs": [
    {
     "name": "stdout",
     "output_type": "stream",
     "text": [
      "Component 0: see this but you, hope you see, hope you read, hope you read this, if you saw, see this but it, you see the, if you remember me, if you remember, you see me\n",
      "Component 1: like to get, like to get to, like to do, would have to, to go back, to give you my, to give you my number, get to know each other, to let you, get the chance to\n",
      "Component 2: ran into each, put it out there, put it out, shoot me an email, to do that, not in the, it might be, contact me if you, to do the, it may be\n",
      "Component 3: would love to hear from, love to hang out, love to have, love to hear, hope to hear back, hope this finds you, hope to hear, hear back from you, to keep my, to introduce myself\n",
      "Component 4: love to see you, to talk to me, love to see you again, love to buy, would love to chat, would love to meet, love to know, and would love to, and would love to get, would like to talk to\n",
      "Component 5: am not sure, know this is long shot, know what color, know this is long, this is what, is in or around, long brown hair, this is the, this is probably, is in or\n",
      "Component 6: if you think you, up the courage to, me up if, up the courage, up on the, me up and tell me, hit me up if, me up and tell, hit me up and tell, hit me back if\n",
      "Component 7: love you with, that is all, you were hot, to stop and, you were wearing white, see you on, to stay in, to tell you that, talking to me, to tell you\n",
      "Component 8: spoke to you, tell me what the, spend some time, tell me what it was, tell you that, me what was wearing, tell me what was wearing, so much more, so know that, know it you and\n",
      "Component 9: pretty sure you, if you noticed, let me know what, me know it, let me know if you, me in your, know if you are, let me know if, me in the, let me know\n"
     ]
    }
   ],
   "source": [
    "# Look at top words for each component group\n",
    "X_ = X[rand_inds[:3000]]\n",
    "mdl = NMF(n_components=10, l1_ratio=1)\n",
    "W = mdl.fit_transform(X_)\n",
    "H = mdl.components_\n",
    "top_word_inds = np.argsort(H)[:, -10:]\n",
    "for ind, row in enumerate(top_word_inds):\n",
    "    print 'Component {}: {}'.format(ind, ', '.join([engfeature_words[i] for i in row]))"
   ]
  },
  {
   "cell_type": "code",
   "execution_count": 49,
   "metadata": {
    "collapsed": true
   },
   "outputs": [],
   "source": [
    "def get_rid_of_end(post):\n",
    "    phrase = \"it's NOT ok to contact this poster with services or other commercial interests\"\n",
    "    post.replace(phrase, '')\n",
    "    if 'Location: ' in post:\n",
    "        end_ind = post.index('Location: ')\n",
    "        post = post[:end_ind]\n",
    "    if '<!-- ' in post:\n",
    "        end_ind = post.index('<!-- ')\n",
    "        post = post[:end_ind]\n",
    "    return post"
   ]
  },
  {
   "cell_type": "code",
   "execution_count": null,
   "metadata": {
    "collapsed": true
   },
   "outputs": [],
   "source": []
  }
 ],
 "metadata": {
  "kernelspec": {
   "display_name": "Python 2",
   "language": "python",
   "name": "python2"
  },
  "language_info": {
   "codemirror_mode": {
    "name": "ipython",
    "version": 2
   },
   "file_extension": ".py",
   "mimetype": "text/x-python",
   "name": "python",
   "nbconvert_exporter": "python",
   "pygments_lexer": "ipython2",
   "version": "2.7.11"
  }
 },
 "nbformat": 4,
 "nbformat_minor": 0
}
